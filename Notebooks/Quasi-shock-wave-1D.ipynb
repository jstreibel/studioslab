{
 "cells": [
  {
   "cell_type": "markdown",
   "id": "758f4f6e-cbac-46e6-9456-d990b3e47aeb",
   "metadata": {},
   "source": [
    "# Inicio e definicoes"
   ]
  },
  {
   "cell_type": "code",
   "execution_count": 1,
   "id": "65a66d25-5f64-481f-846c-0ced8fe616ac",
   "metadata": {},
   "outputs": [],
   "source": [
    "import numpy as np\n",
    "from matplotlib import pyplot\n",
    "\n",
    "import IPython.display as Display\n",
    "Latex = Display.Latex"
   ]
  },
  {
   "cell_type": "code",
   "execution_count": 2,
   "id": "9a8f27e5-7f69-4c13-82ed-beaef00a7db9",
   "metadata": {},
   "outputs": [],
   "source": [
    "pyplot.rcParams['figure.figsize'] = [18, 9]\n",
    "pyplot.rcParams['figure.dpi'] = 100\n",
    "\n",
    "N = 1000\n",
    "zeros = np.zeros(N)"
   ]
  },
  {
   "cell_type": "markdown",
   "id": "c1286d2a-511b-499a-8c55-49a908311fd6",
   "metadata": {},
   "source": [
    "## Quasi-shock-wave"
   ]
  },
  {
   "cell_type": "code",
   "execution_count": 3,
   "id": "73f22443-49dc-4039-bb7a-68f3039bc483",
   "metadata": {},
   "outputs": [],
   "source": [
    "def ϕ_1L(t, x, a, ε):\n",
    "    domain = ((x>-ε+t) & (x<-t) & (t<ε/2)) * 1\n",
    "    \n",
    "    ϕ = a/ε**2 * (x+ε)*t  -  t**2/2\n",
    "    \n",
    "    return domain*ϕ\n",
    "\n",
    "def ϕ_2L(t, x, a, ε):\n",
    "    v = -1 + ε**2/a\n",
    "    \n",
    "    x_max = -ε+t\n",
    "    if t>ε/2:\n",
    "        x_max = -t\n",
    "        \n",
    "    t_c = a/ε\n",
    "    domain = ((x>=-ε+v*t) & (x<=x_max) & (t<=t_c)) * 1\n",
    "    \n",
    "    ϕ = (x+ε-v*t)**2 / (2*(1-v**2))\n",
    "    \n",
    "    return domain*ϕ\n",
    "\n",
    "def ϕ_3L(t, x, a, ε):\n",
    "    v = -1 + ε**2/a\n",
    "    \n",
    "    x_max = -ε+t\n",
    "    if t>=ε: x_max = ε-t\n",
    "    domain = ((x>=-t) & (x<=x_max) & (t>=ε/2)) * 1\n",
    "    \n",
    "    ϕ = 1./(1+v)*(ε/2 * (x+t)-.25*(x+t)**2) + (x-t)**2/8 - .5*t**2 + .5/(1-v**2)*(ε+(1+v)*(x-t)*.5)**2\n",
    "    \n",
    "    return domain*ϕ\n",
    "\n",
    "\n",
    "def ϕ_1C(t, x, a, ε):\n",
    "    v = -1 + ε**2/a\n",
    "    \n",
    "    if t<=ε/2:\n",
    "        domain = ((x>=-t) & (x<=t)) * 1\n",
    "    elif t>ε/2 and t<=ε:\n",
    "        domain = ((x>=-ε+t) & (x<=ε-t)) * 1\n",
    "    else:\n",
    "        domain = zeros\n",
    "    \n",
    "    ϕ = 1./(1+v) * (ε*t - (x**2 + t**2)/2) - t**2/2\n",
    "    \n",
    "    return domain*ϕ\n",
    "\n",
    "def ϕ_2C(t, x, a, ε):\n",
    "    v = -1 + ε**2/a\n",
    "    b = -v*t**2 + 2*ε*t - 2*a\n",
    "    \n",
    "    ϕ = (x**2 - b)*.5/(1-v)\n",
    "    \n",
    "    if t>=ε:\n",
    "        domain = ((x>=ε-t) & (x<=-ε+t)) * 1\n",
    "    else:\n",
    "        domain = zeros\n",
    "    \n",
    "    return domain*ϕ\n",
    "    \n",
    "\n",
    "    \n",
    "def ϕ_1R(t, x, a, ε):\n",
    "    return ϕ_1L(t, -x, a, ε)\n",
    "    \n",
    "def ϕ_2R(t, x, a, ε):\n",
    "    return ϕ_2L(t, -x, a, ε)\n",
    "\n",
    "def ϕ_3R(t, x, a, ε):\n",
    "    return ϕ_3L(t, -x, a, ε)"
   ]
  },
  {
   "cell_type": "code",
   "execution_count": 4,
   "id": "0035f9cb-b41e-4c2c-8d9b-5fa760df9a2e",
   "metadata": {},
   "outputs": [
    {
     "name": "stdout",
     "output_type": "stream",
     "text": [
      "ε  =0.05013256549262001\n",
      "ε/2=0.025066282746310006\n"
     ]
    }
   ],
   "source": [
    "ε = 2*np.sqrt(np.pi*2.e-4)\n",
    "a = 0.05\n",
    "\n",
    "def getDomains(t):\n",
    "    raise NotImplementedError(\"getDomains(t) not implemented.\")\n",
    "    t_c = a/ε\n",
    "    dom_1L = ((x>-ε+t) & (x<-t) & (t<ε/2)) * 1\n",
    "    dom_2L\n",
    "    dom_3L\n",
    "    dom_1C\n",
    "    dom_2C\n",
    "    dom_1R = ((-x>-ε+t) & (-x<-t) & (t<ε/2)) * 1\n",
    "    dom_2R\n",
    "    dom_3R\n",
    "\n",
    "def ϕ(t, x, a=a, ε=ε):    \n",
    "    return ϕ_1L(t, x, a, ε) + ϕ_2L(t, x, a, ε) + ϕ_3L(t, x, a, ε) + ϕ_1C(t, x, a, ε) + ϕ_2C(t, x, a, ε) + ϕ_1R(t, x, a, ε) + ϕ_2R(t, x, a, ε) + ϕ_3R(t, x, a, ε)\n",
    "\n",
    "print(\"ε  ={}\\nε/2={}\".format(ε,ε/2))"
   ]
  },
  {
   "cell_type": "markdown",
   "id": "71bff3df-c5d9-4ae5-b8c1-35e7e58b8124",
   "metadata": {},
   "source": [
    "# View"
   ]
  },
  {
   "cell_type": "code",
   "execution_count": 5,
   "id": "4d2d82be-476c-40da-a580-045c6b5ce8eb",
   "metadata": {},
   "outputs": [],
   "source": [
    "from ipywidgets import interact"
   ]
  },
  {
   "cell_type": "code",
   "execution_count": 28,
   "id": "b00606dd-b4de-4db9-bdfd-3b4f140f1bf8",
   "metadata": {},
   "outputs": [
    {
     "data": {
      "application/vnd.jupyter.widget-view+json": {
       "model_id": "56a87b6f978943eba136eab5503d8d79",
       "version_major": 2,
       "version_minor": 0
      },
      "text/plain": [
       "interactive(children=(FloatSlider(value=0.2, description='t', max=0.75, step=0.01), FloatSlider(value=0.0, des…"
      ]
     },
     "metadata": {},
     "output_type": "display_data"
    }
   ],
   "source": [
    "ε_v = np.linspace(1.e-2,1.e-1,5)\n",
    "\n",
    "@interact(t=(0.0, 0.75, 0.01), t_fine=(-1,1,0.01), zoom_left=False, light_cone=False, reservoir=True)\n",
    "def plot_ϕ(t=0.2, t_fine=0.0, zoom_left=False, light_cone=False):\n",
    "    t+=1.e-2*t_fine\n",
    "    \n",
    "    ε_max = ε_v[-1]\n",
    "    x_min, x_max = -ε_max-t, ε_max+t\n",
    "    if zoom_left: x_min, x_max = -ε_max-t, ε_max-t\n",
    "    x = np.linspace(x_min, x_max, N)\n",
    "\n",
    "    pyplot.ylim(0, 0.6*a)\n",
    "    pyplot.xlim(-0.65, 0.65)\n",
    "    \n",
    "    pyplot.text(-t, 0.025, 't={:.3f}'.format(t))\n",
    "    \n",
    "    \n",
    "    if light_cone:\n",
    "        pyplot.axvline(-t, ls='--', color='k', lw=0.5)\n",
    "        pyplot.axvline(t, ls='--', color='k', lw=0.5)\n",
    "        \n",
    "    \n",
    "    pyplot.ylabel(\"$\\phi_\\\\varepsilon(x)$\")\n",
    "    pyplot.xlabel(\"$x$\")\n",
    "    \n",
    "    for ε in ε_v:\n",
    "        label = \"$\\\\varepsilon=\" + \"{:.2f}\".format(ε) + \"$\"\n",
    "        pyplot.plot(x, ϕ(t, x, a, ε),label=label, lw=0.5)    \n",
    "\n",
    "    \n",
    "    if 0:\n",
    "        ε = ε_v[-1]\n",
    "        pyplot.plot(x, ϕ_1L(t, x, a, ε),label=\"$\\\\phi_{1L}(t,x)$\")\n",
    "        pyplot.plot(x, ϕ_2L(t, x, a, ε),label=\"$\\\\phi_{2L}(t,x)$\")\n",
    "        pyplot.plot(x, ϕ_3L(t, x, a, ε),label=\"$\\\\phi_{3L}(t,x)$\")\n",
    "\n",
    "        pyplot.plot(x, ϕ_1C(t, x, a, ε),label=\"$\\\\phi_{1C}(t,x)$\")\n",
    "        pyplot.plot(x, ϕ_2C(t, x, a, ε),label=\"$\\\\phi_{2C}(t,x)$\")\n",
    "\n",
    "        pyplot.plot(x, ϕ_1R(t, x, a, ε),label=\"$\\\\phi_{1R}(t,x)$\")\n",
    "        pyplot.plot(x, ϕ_2R(t, x, a, ε),label=\"$\\\\phi_{2R}(t,x)$\")\n",
    "        pyplot.plot(x, ϕ_3R(t, x, a, ε),label=\"$\\\\phi_{3R}(t,x)$\")\n",
    "\n",
    "\n",
    "    pyplot.legend()\n",
    "\n"
   ]
  },
  {
   "cell_type": "code",
   "execution_count": 7,
   "id": "668b104b-fe8a-4c8b-aa31-7c57cc3a9f49",
   "metadata": {},
   "outputs": [
    {
     "data": {
      "text/plain": [
       "3.5970000000000004"
      ]
     },
     "execution_count": 7,
     "metadata": {},
     "output_type": "execute_result"
    }
   ],
   "source": [
    "x, y = np.asarray((2.48, 3.27))*1.1\n",
    "x\n",
    "y"
   ]
  },
  {
   "cell_type": "code",
   "execution_count": null,
   "id": "80e9cb92-6c3e-49f7-8073-210ce8f75b20",
   "metadata": {},
   "outputs": [],
   "source": []
  },
  {
   "cell_type": "code",
   "execution_count": 45,
   "id": "c6b5f016-9cee-4b84-80c1-27e9af2913c1",
   "metadata": {},
   "outputs": [
    {
     "data": {
      "application/vnd.jupyter.widget-view+json": {
       "model_id": "eca455a15071440dbd65240bae3abc62",
       "version_major": 2,
       "version_minor": 0
      },
      "text/plain": [
       "interactive(children=(FloatSlider(value=0.2, description='t_by_eps', max=10.0, step=0.01), FloatSlider(value=0…"
      ]
     },
     "metadata": {},
     "output_type": "display_data"
    }
   ],
   "source": [
    "@interact(t_by_eps=(0.0, 10, 0.01), t_fine=(-1,1,0.01), zoom_left=False, ε=(1.e-3,1.e-1,1.e-3), reservoir=True)\n",
    "def plot_ϕ(t_by_eps=0.2, t_fine=0.0, zoom_left=False, ε = 5.e-2, reservoir=True):\n",
    "    t = t_by_eps*ε\n",
    "    t+=1.e-2*t_fine*ε\n",
    "    \n",
    "    \n",
    "    x_min, x_max = np.asarray((-ε-t, ε+t))*1.1\n",
    "    \n",
    "    default_zoom = 0.4\n",
    "    if default_zoom<(ε+t)*1.1:\n",
    "        pyplot.xlim(-(ε+t)*1.1, (ε+t)*1.1)        \n",
    "    else: pyplot.xlim(-default_zoom, default_zoom)        \n",
    "    pyplot.ylim(0, 0.6*a)\n",
    "    \n",
    "    if zoom_left: \n",
    "        x_min, x_max = np.asarray((-ε-t, ε-t))*1.1\n",
    "        pyplot.xlim(x_min, x_max)\n",
    "        \n",
    "    x = np.linspace(x_min, x_max, N)\n",
    "    \n",
    "    \n",
    "    pyplot.text(-t+0.01, 0.025, '$t/\\\\varepsilon$={:.3f}\\nt={:.3f}\\n$t_c$={:.3f}\\n$\\\\varepsilon$={:.3f}'.format(t/ε,t,a/ε,ε))\n",
    "    \n",
    "    \n",
    "    if reservoir:\n",
    "        v = -1 + ε**2/a\n",
    "        pyplot.axvline(-ε+v*t, ls='--', color='k', lw=0.5)\n",
    "        pyplot.axvline(ε-t, ls='--', color='k', lw=0.5)\n",
    "    \n",
    "    \n",
    "    if 0:\n",
    "        for ε in ε_v:\n",
    "            label = \"$\\\\phi_{ε=\" + \"{:.2f}\".format(ε) + \"}$\"\n",
    "            pyplot.plot(x, ϕ(t, x, a, ε),label=label, lw=0.5)    \n",
    "    \n",
    "    \n",
    "    if 1:\n",
    "        pyplot.plot(x, ϕ_1L(t, x, a, ε),label=\"$\\\\phi_{1L}(t,x)$\")\n",
    "        pyplot.plot(x, ϕ_2L(t, x, a, ε),label=\"$\\\\phi_{2L}(t,x)$\")\n",
    "        pyplot.plot(x, ϕ_3L(t, x, a, ε),label=\"$\\\\phi_{3L}(t,x)$\")\n",
    "\n",
    "        pyplot.plot(x, ϕ_1C(t, x, a, ε),label=\"$\\\\phi_{1C}(t,x)$\")\n",
    "        pyplot.plot(x, ϕ_2C(t, x, a, ε),label=\"$\\\\phi_{2C}(t,x)$\")\n",
    "\n",
    "        pyplot.plot(x, ϕ_1R(t, x, a, ε),label=\"$\\\\phi_{1R}(t,x)$\")\n",
    "        pyplot.plot(x, ϕ_2R(t, x, a, ε),label=\"$\\\\phi_{2R}(t,x)$\")\n",
    "        pyplot.plot(x, ϕ_3R(t, x, a, ε),label=\"$\\\\phi_{3R}(t,x)$\")\n",
    "\n",
    "\n",
    "    pyplot.legend()\n",
    "\n"
   ]
  },
  {
   "cell_type": "markdown",
   "id": "821b97ae-84f2-490d-8e42-3e8df171e709",
   "metadata": {},
   "source": [
    "# Energia"
   ]
  },
  {
   "cell_type": "markdown",
   "id": "1d7409cc-6304-4327-842a-7880e13cf118",
   "metadata": {},
   "source": [
    "## Energia assintotica do reservatorio"
   ]
  },
  {
   "cell_type": "code",
   "execution_count": 38,
   "id": "bfbff09d-b272-4567-a57d-ecf835d70f5e",
   "metadata": {},
   "outputs": [],
   "source": [
    "def E_1LR(t, a, ε):\n",
    "    pass\n",
    "\n",
    "def E_2LR(t, a, ε):\n",
    "    v = -1+ε*ε/a\n",
    "    \n",
    "    domain1 = ((t>=0) & (t<ε/2)) * 1\n",
    "    domain2 = (t>=ε/2) * 1\n",
    "    \n",
    "    E_a = -t**3*(v-1)/(3*(v+1)**2)\n",
    "    E_b = -((1+v)*t-ε)**3 / (3*(v**2-1)**2)\n",
    "    \n",
    "    return 2*(domain1*E_a + domain2*E_b)\n",
    "\n",
    "\n",
    "def E_3LR(t, a, ε):\n",
    "    v = -1+ε*ε/a\n",
    "    \n",
    "    domain_a = ((t>=ε/2) & (t<=ε)) * 1\n",
    "    domain_b = (t>=ε) * 1\n",
    "    \n",
    "    E_a = (2*t-ε)*(2*t**2*(v*(v*(v+2)-1)+2) + t*(v*(v*(v-7)+5)-7)*ε - (v*(v*(v-4)+5)-4)*ε**2) / (6*(v**2-1)**2)\n",
    "    E_b = ε*(6*t**2*(v+1)**2 + 3*t*(v*(v-2)-5)*(v+1)*ε - (v*(v*(v+2)-7)-10)*ε**2) / (6*(v**2-1)**2)\n",
    "    \n",
    "    return 2*(domain_a*E_a + domain_b*E_b)"
   ]
  },
  {
   "cell_type": "code",
   "execution_count": 40,
   "id": "e51f1c02-8fa4-4db5-bf28-438ce4428ecc",
   "metadata": {},
   "outputs": [
    {
     "data": {
      "application/vnd.jupyter.widget-view+json": {
       "model_id": "a7bf69dd9fe34bcfa57afbc23201db6e",
       "version_major": 2,
       "version_minor": 0
      },
      "text/plain": [
       "interactive(children=(FloatSlider(value=0.01, description='ε', max=0.1, min=0.001, step=0.001), Output()), _do…"
      ]
     },
     "metadata": {},
     "output_type": "display_data"
    }
   ],
   "source": [
    "@interact(ε=(1.e-3,1.e-1,1.e-3))\n",
    "def plotReservoirEnergy(ε=1.e-2):\n",
    "    tmax = 10*ε\n",
    "    t = np.linspace(0, tmax, 500)\n",
    "\n",
    "    pyplot.plot(t, E_2LR(t,a,ε), label=\"$E_{2L}+E_{2R}$\")\n",
    "    pyplot.plot(t, E_3LR(t,a,ε), label=\"$E_{3L}+E_{3R}$\")\n",
    "    \n",
    "    pyplot.axvline(ε/2, color='k', lw=0.5, ls='-.')\n",
    "    pyplot.axvline(ε, color='k', lw=0.5, ls='-.')\n",
    "    pyplot.axvline(a/ε, color='k', lw=0.5, ls='-.')\n",
    "    \n",
    "    pyplot.xlabel(\"$x$\")\n",
    "    pyplot.ylabel(\"$E(t)$\")\n",
    "    \n",
    "    pyplot.legend()"
   ]
  },
  {
   "cell_type": "code",
   "execution_count": null,
   "id": "b1725edc-d38a-40ff-a706-8b8df6e56061",
   "metadata": {},
   "outputs": [],
   "source": []
  }
 ],
 "metadata": {
  "kernelspec": {
   "display_name": "Python 3",
   "language": "python",
   "name": "python3"
  },
  "language_info": {
   "codemirror_mode": {
    "name": "ipython",
    "version": 3
   },
   "file_extension": ".py",
   "mimetype": "text/x-python",
   "name": "python",
   "nbconvert_exporter": "python",
   "pygments_lexer": "ipython3",
   "version": "3.8.8"
  }
 },
 "nbformat": 4,
 "nbformat_minor": 5
}
