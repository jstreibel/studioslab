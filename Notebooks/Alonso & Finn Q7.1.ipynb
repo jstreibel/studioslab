{
 "cells": [
  {
   "cell_type": "markdown",
   "id": "4ca7f978-579f-4bd3-a858-88eea8513f72",
   "metadata": {},
   "source": [
    "# Questão 7.1 do livro Alonso & Finn"
   ]
  },
  {
   "cell_type": "code",
   "execution_count": 1,
   "id": "b207a6f9-ac6b-4257-a665-89ab92fa07ea",
   "metadata": {},
   "outputs": [],
   "source": [
    "import sympy as sp"
   ]
  },
  {
   "cell_type": "code",
   "execution_count": 72,
   "id": "d3bc8dde-8301-4072-87e0-77b85f77275b",
   "metadata": {},
   "outputs": [],
   "source": [
    "v1_abs, v2_abs, v1x, v2y, m1, m2, th, vp1, vp2x, vp2y = sp.symbols('v_1 v_2 v_1x v_2y m_1 m_2 theta v\\'_1 v\\'_2x v\\'_2y')"
   ]
  },
  {
   "cell_type": "code",
   "execution_count": 73,
   "id": "7974b083-b2e6-464b-b458-1f1c270f5e62",
   "metadata": {},
   "outputs": [],
   "source": [
    "import sympy.vector as vec"
   ]
  },
  {
   "cell_type": "code",
   "execution_count": 74,
   "id": "6e85e8c2-c151-4c7a-a5d8-e211e95f8d9f",
   "metadata": {},
   "outputs": [],
   "source": [
    "x = vec.CoordSys3D('\\hat x')"
   ]
  },
  {
   "cell_type": "code",
   "execution_count": 75,
   "id": "fe564013-c2b2-430e-9744-6ba7ad515368",
   "metadata": {},
   "outputs": [],
   "source": [
    "v1 = v1x * x.i\n",
    "v2 = v2y * x.j\n",
    "vp2 = vp2x*x.i + vp2y*x.j"
   ]
  },
  {
   "cell_type": "code",
   "execution_count": 76,
   "id": "1e80636b-08f1-491e-bcbc-f03ec32dd7f4",
   "metadata": {},
   "outputs": [],
   "source": [
    "p_a = m1*v1+m2*v2\n",
    "p_b = m1*vp1*(sp.cos(th)*x.i + sp.sin(th)*x.j) + m2*vp2\n",
    "eq = sp.Eq(p_a, p_b)"
   ]
  },
  {
   "cell_type": "code",
   "execution_count": 77,
   "id": "5cf888a4-1b77-449a-a5e0-ba27faea728f",
   "metadata": {},
   "outputs": [],
   "source": [
    "vp2 = (1/m2)*(p_a - m1*vp1*(sp.cos(th)*x.i + sp.sin(th)*x.j))"
   ]
  },
  {
   "cell_type": "code",
   "execution_count": 78,
   "id": "add3968a-926f-48b4-96f0-90eabae7aec4",
   "metadata": {},
   "outputs": [
    {
     "data": {
      "text/latex": [
       "$\\displaystyle (\\frac{- m_{1} v'_{1} \\cos{\\left(\\theta \\right)} + m_{1} v_{1x}}{m_{2}})\\mathbf{\\hat{i}_{\\hat x}} + (\\frac{- m_{1} v'_{1} \\sin{\\left(\\theta \\right)} + m_{2} v_{2y}}{m_{2}})\\mathbf{\\hat{j}_{\\hat x}}$"
      ],
      "text/plain": [
       "((-m_1*v'_1*cos(theta) + m_1*v_1x)/m_2)*\\hat x.i + ((-m_1*v'_1*sin(theta) + m_2*v_2y)/m_2)*\\hat x.j"
      ]
     },
     "execution_count": 78,
     "metadata": {},
     "output_type": "execute_result"
    }
   ],
   "source": [
    "vp2"
   ]
  },
  {
   "cell_type": "code",
   "execution_count": 79,
   "id": "69934c89-df4b-42a4-9567-beec184504d7",
   "metadata": {},
   "outputs": [],
   "source": [
    "vp2_abs = vec.dot(vp2, vp2)**sp.Rational(1,2)"
   ]
  },
  {
   "cell_type": "code",
   "execution_count": 80,
   "id": "7f53feb3-1c52-477b-945c-6ad1de24309f",
   "metadata": {},
   "outputs": [
    {
     "data": {
      "text/latex": [
       "$\\displaystyle \\sqrt{\\frac{\\left(- m_{1} v'_{1} \\sin{\\left(\\theta \\right)} + m_{2} v_{2y}\\right)^{2}}{m_{2}^{2}} + \\frac{\\left(- m_{1} v'_{1} \\cos{\\left(\\theta \\right)} + m_{1} v_{1x}\\right)^{2}}{m_{2}^{2}}}$"
      ],
      "text/plain": [
       "sqrt((-m_1*v'_1*sin(theta) + m_2*v_2y)**2/m_2**2 + (-m_1*v'_1*cos(theta) + m_1*v_1x)**2/m_2**2)"
      ]
     },
     "execution_count": 80,
     "metadata": {},
     "output_type": "execute_result"
    }
   ],
   "source": [
    "vp2_abs"
   ]
  },
  {
   "cell_type": "code",
   "execution_count": 87,
   "id": "44d7f298-d8c9-492c-a049-1b45b3e8b7de",
   "metadata": {},
   "outputs": [],
   "source": [
    "vp2_abs=sp.simplify(vp2_abs.subs(m2, sp.Rational(1,2)*m1).subs(v1x, -v1_abs).subs(v2y, v2_abs).subs(vp1, sp.Rational(1,2)*v1_abs))"
   ]
  },
  {
   "cell_type": "code",
   "execution_count": 90,
   "id": "1c0e89fb-bc22-4968-92b7-fd6b367d61af",
   "metadata": {},
   "outputs": [
    {
     "data": {
      "text/latex": [
       "$\\displaystyle \\sqrt{v_{1}^{2} \\left(\\cos{\\left(\\theta \\right)} + 2\\right)^{2} + \\left(v_{1} \\sin{\\left(\\theta \\right)} - v_{2}\\right)^{2}}$"
      ],
      "text/plain": [
       "sqrt(v_1**2*(cos(theta) + 2)**2 + (v_1*sin(theta) - v_2)**2)"
      ]
     },
     "execution_count": 90,
     "metadata": {},
     "output_type": "execute_result"
    }
   ],
   "source": [
    "vp2_abs"
   ]
  },
  {
   "cell_type": "code",
   "execution_count": 96,
   "id": "7af37a83-4868-4d3a-bad9-43f1df09f420",
   "metadata": {},
   "outputs": [],
   "source": [
    "vp2_abs = vp2_abs.subs(v2_abs, sp.Rational(5,6)*v1_abs).subs(v1_abs, 6).subs(th, sp.pi*sp.Rational(1,3))"
   ]
  },
  {
   "cell_type": "code",
   "execution_count": 97,
   "id": "9cc545f4-ff4f-49c4-bdff-b0f2c930cc56",
   "metadata": {},
   "outputs": [
    {
     "data": {
      "text/latex": [
       "$\\displaystyle 15.0012824709401$"
      ],
      "text/plain": [
       "15.0012824709401"
      ]
     },
     "execution_count": 97,
     "metadata": {},
     "output_type": "execute_result"
    }
   ],
   "source": [
    "sp.N(vp2_abs)"
   ]
  },
  {
   "cell_type": "code",
   "execution_count": null,
   "id": "46a4a829-cac5-4865-a61e-62970f1c89c3",
   "metadata": {},
   "outputs": [],
   "source": []
  }
 ],
 "metadata": {
  "kernelspec": {
   "display_name": "Python 3",
   "language": "python",
   "name": "python3"
  },
  "language_info": {
   "codemirror_mode": {
    "name": "ipython",
    "version": 3
   },
   "file_extension": ".py",
   "mimetype": "text/x-python",
   "name": "python",
   "nbconvert_exporter": "python",
   "pygments_lexer": "ipython3",
   "version": "3.8.8"
  }
 },
 "nbformat": 4,
 "nbformat_minor": 5
}
