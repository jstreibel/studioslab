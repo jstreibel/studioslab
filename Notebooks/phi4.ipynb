{
 "cells": [
  {
   "cell_type": "code",
   "execution_count": 44,
   "id": "2add5294-e6d5-4f88-bd6b-6acdcd62ff5c",
   "metadata": {},
   "outputs": [],
   "source": [
    "from matplotlib import pyplot\n",
    "import numpy as np\n",
    "from ipywidgets import interact\n",
    "\n",
    "pyplot.rcParams['figure.figsize'] = [12, 6]\n",
    "pyplot.rcParams['figure.dpi'] = 120"
   ]
  },
  {
   "cell_type": "code",
   "execution_count": 45,
   "id": "1fbcb186-eeea-4fe4-96af-8233b0887359",
   "metadata": {},
   "outputs": [],
   "source": [
    "phi = np.linspace(-10, 10, 200)"
   ]
  },
  {
   "cell_type": "code",
   "execution_count": 46,
   "id": "d88ee2c4-4fb1-40cd-bb67-5198819dfd7f",
   "metadata": {},
   "outputs": [
    {
     "data": {
      "application/vnd.jupyter.widget-view+json": {
       "model_id": "4d58aa87d4034e4ba326b4a16dde6898",
       "version_major": 2,
       "version_minor": 0
      },
      "text/plain": [
       "interactive(children=(FloatSlider(value=1.0, description='m', max=2.0), FloatSlider(value=0.0, description='a'…"
      ]
     },
     "metadata": {},
     "output_type": "display_data"
    }
   ],
   "source": [
    "@interact(m=(0.0, 2.0, 0.1), a=(0.0, 4.0, 0.1), l=(0.0, 4.0, 0.1))\n",
    "def plot(m=1.0, a=0.0, l=1.0):\n",
    "    V = .5*m**2*phi**2 - 0.333334*a*m*phi**3 + 0.25*l*phi**4\n",
    "    pyplot.plot(phi, V)\n",
    "    \n",
    "    pyplot.ylim(-20, 80)"
   ]
  },
  {
   "cell_type": "code",
   "execution_count": null,
   "id": "861c52df-7073-49e7-9283-6f16de7bf01a",
   "metadata": {},
   "outputs": [],
   "source": []
  }
 ],
 "metadata": {
  "kernelspec": {
   "display_name": "Python 3",
   "language": "python",
   "name": "python3"
  },
  "language_info": {
   "codemirror_mode": {
    "name": "ipython",
    "version": 3
   },
   "file_extension": ".py",
   "mimetype": "text/x-python",
   "name": "python",
   "nbconvert_exporter": "python",
   "pygments_lexer": "ipython3",
   "version": "3.8.8"
  }
 },
 "nbformat": 4,
 "nbformat_minor": 5
}
