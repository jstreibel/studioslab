{
 "cells": [
  {
   "cell_type": "code",
   "execution_count": 3,
   "id": "27713c07-0902-4d70-9cec-47c12d4c296f",
   "metadata": {},
   "outputs": [],
   "source": [
    "import os\n",
    "import sys\n",
    "module_path = os.path.abspath(os.path.join('../FieldsTools/DataAnalysis'))\n",
    "if module_path not in sys.path:\n",
    "    sys.path.append(module_path)\n",
    "    \n",
    "from matplotlib import pyplot\n",
    "from numpy import linspace, abs as npabs, exp, sqrt, pi, asarray\n",
    "import numpy as np\n",
    "from ipywidgets import interact, interactive, fixed, interact_manual\n",
    "\n",
    "pyplot.rcParams['figure.figsize'] = [12, 6]\n",
    "pyplot.rcParams['figure.dpi'] = 60"
   ]
  },
  {
   "cell_type": "code",
   "execution_count": 5,
   "id": "76cd070d-3f71-4ee2-9dce-c33c289b0427",
   "metadata": {},
   "outputs": [
    {
     "name": "stdout",
     "output_type": "stream",
     "text": [
      "File not found '/home/joao/Data/workdir/1D/simple/simple.osc'\n"
     ]
    },
    {
     "ename": "FileNotFoundError",
     "evalue": "",
     "output_type": "error",
     "traceback": [
      "\u001b[0;31m---------------------------------------------------------------------------\u001b[0m",
      "\u001b[0;31mFileNotFoundError\u001b[0m                         Traceback (most recent call last)",
      "\u001b[0;32m<ipython-input-5-88ed06143408>\u001b[0m in \u001b[0;36m<module>\u001b[0;34m\u001b[0m\n\u001b[1;32m      9\u001b[0m \u001b[0mfileName\u001b[0m \u001b[0;34m=\u001b[0m \u001b[0m_filenameFyodor\u001b[0m\u001b[0;34m\u001b[0m\u001b[0;34m\u001b[0m\u001b[0m\n\u001b[1;32m     10\u001b[0m \u001b[0;34m\u001b[0m\u001b[0m\n\u001b[0;32m---> 11\u001b[0;31m \u001b[0msimData\u001b[0m \u001b[0;34m=\u001b[0m \u001b[0mopen_sim\u001b[0m\u001b[0;34m.\u001b[0m\u001b[0mOpenSimData\u001b[0m\u001b[0;34m(\u001b[0m\u001b[0mdataLocation\u001b[0m \u001b[0;34m+\u001b[0m \u001b[0mfileName\u001b[0m\u001b[0;34m)\u001b[0m\u001b[0;34m\u001b[0m\u001b[0;34m\u001b[0m\u001b[0m\n\u001b[0m",
      "\u001b[0;32m~/Developer/StudioSlab/FieldsTools/DataAnalysis/open_sim.py\u001b[0m in \u001b[0;36mOpenSimData\u001b[0;34m(fileName)\u001b[0m\n\u001b[1;32m    573\u001b[0m     \u001b[0;32mif\u001b[0m \u001b[0;32mnot\u001b[0m \u001b[0misfile\u001b[0m\u001b[0;34m(\u001b[0m\u001b[0mfileName\u001b[0m\u001b[0;34m)\u001b[0m\u001b[0;34m:\u001b[0m\u001b[0;34m\u001b[0m\u001b[0;34m\u001b[0m\u001b[0m\n\u001b[1;32m    574\u001b[0m         \u001b[0mprint\u001b[0m\u001b[0;34m(\u001b[0m\u001b[0;34m\"File not found \\'\"\u001b[0m \u001b[0;34m+\u001b[0m \u001b[0mfileName\u001b[0m \u001b[0;34m+\u001b[0m \u001b[0;34m\"\\'\"\u001b[0m\u001b[0;34m)\u001b[0m\u001b[0;34m\u001b[0m\u001b[0;34m\u001b[0m\u001b[0m\n\u001b[0;32m--> 575\u001b[0;31m         \u001b[0;32mraise\u001b[0m \u001b[0mFileNotFoundError\u001b[0m\u001b[0;34m\u001b[0m\u001b[0;34m\u001b[0m\u001b[0m\n\u001b[0m\u001b[1;32m    576\u001b[0m \u001b[0;34m\u001b[0m\u001b[0m\n\u001b[1;32m    577\u001b[0m     \u001b[0;32mif\u001b[0m \u001b[0mfileName\u001b[0m\u001b[0;34m[\u001b[0m\u001b[0;34m-\u001b[0m\u001b[0;36m4\u001b[0m\u001b[0;34m:\u001b[0m\u001b[0;34m]\u001b[0m \u001b[0;34m==\u001b[0m \u001b[0;34m'.osc'\u001b[0m\u001b[0;34m:\u001b[0m\u001b[0;34m\u001b[0m\u001b[0;34m\u001b[0m\u001b[0m\n",
      "\u001b[0;31mFileNotFoundError\u001b[0m: "
     ]
    }
   ],
   "source": [
    "import open_sim\n",
    "\n",
    "_filenameFyodor = \"simple.osc\"\n",
    "_filenameVlad = \"E=0.05-n=500.osc.osc\"\n",
    "_dataLocationFyodor = \"/home/joao/Data/workdir/1D/simple/\"\n",
    "_dataLocationVlad = \"/home/joao/Data/Fields/1d/Statistic/preliminar/\"\n",
    "\n",
    "dataLocation = _dataLocationVlad\n",
    "fileName = _filenameFyodor\n",
    "\n",
    "simData = open_sim.OpenSimData(dataLocation + fileName)"
   ]
  },
  {
   "cell_type": "code",
   "execution_count": null,
   "id": "6f8f1e77-b1d6-46b7-92b6-c83179891306",
   "metadata": {},
   "outputs": [],
   "source": [
    "simData['t'], simData['N'], simData['outresX']"
   ]
  },
  {
   "cell_type": "markdown",
   "id": "a3e6edac-b0da-4ffe-aed3-2e9236457cb6",
   "metadata": {},
   "source": [
    "## Total energy in time"
   ]
  },
  {
   "cell_type": "code",
   "execution_count": null,
   "id": "a28c3bd5-b69e-4dfa-a39b-4c9f0f3228cc",
   "metadata": {
    "scrolled": true,
    "tags": []
   },
   "outputs": [],
   "source": [
    "_t=linspace(0, 60, 200)\n",
    "E = []\n",
    "\n",
    "for t_ in _t:\n",
    "    E.append(simData.getTotalEnergy(t_))\n",
    "\n",
    "E = asarray(E)\n",
    "\n",
    "pyplot.plot(_t, E)"
   ]
  },
  {
   "cell_type": "markdown",
   "id": "bc77900f-c509-41f1-95a2-c8bb5277a4c3",
   "metadata": {},
   "source": [
    "# Full data energy"
   ]
  },
  {
   "cell_type": "code",
   "execution_count": null,
   "id": "33be487d-8e8a-4a29-a4a6-d7d8607260e8",
   "metadata": {
    "scrolled": true,
    "tags": []
   },
   "outputs": [],
   "source": [
    "import plot_single\n",
    "\n",
    "simDataPlot = plot_single.plot(simData, closeAfterUse=False, saveToFile=False, showEnergyDens=True, show_colorbar=True)"
   ]
  },
  {
   "cell_type": "code",
   "execution_count": null,
   "id": "801860fb-e05a-4ee8-9555-ef7d8b5c35a2",
   "metadata": {},
   "outputs": [],
   "source": [
    "np.max(simData['phi'])"
   ]
  },
  {
   "cell_type": "markdown",
   "id": "f39fdb1f-30e3-4ff8-b913-7e7b04f752fa",
   "metadata": {},
   "source": [
    "# Statistical properties"
   ]
  },
  {
   "cell_type": "code",
   "execution_count": null,
   "id": "d0c7ceca-0f83-4c6b-a4a6-5654de7ea6ff",
   "metadata": {},
   "outputs": [],
   "source": [
    "from importlib import reload\n",
    "\n",
    "if plot_single is not None:\n",
    "    plot_single = reload(plot_single)\n",
    "    \n",
    "if open_sim is not None:\n",
    "    open_sim = reload(open_sim)"
   ]
  },
  {
   "cell_type": "code",
   "execution_count": null,
   "id": "2d89f4bd-bca8-48cb-9812-182e3fff50c5",
   "metadata": {},
   "outputs": [],
   "source": [
    "t = simData['t']\n",
    "N = simData['N']\n",
    "L = simData['L']\n",
    "x0, x1= simData['xLeft'], simData['xLeft'] + simData['L']\n",
    "K = simData.getKineticEnergyDensityInInterval(t, x0, x1)\n",
    "KG = simData.getKineticAndGradientEnergyDensityInInterval(t, x0, x1)\n",
    "E = simData.getEnergyDensityInterval(t, x0, x1)\n",
    "\n",
    "tmax = t"
   ]
  },
  {
   "cell_type": "code",
   "execution_count": null,
   "id": "1c911b2e-ae77-4fca-af20-c6f3d648be82",
   "metadata": {},
   "outputs": [],
   "source": [
    "np.average(E)"
   ]
  },
  {
   "cell_type": "code",
   "execution_count": null,
   "id": "a9ccebc7-c3db-4711-a319-2c5968eac5ed",
   "metadata": {},
   "outputs": [],
   "source": [
    "x0, x1"
   ]
  },
  {
   "cell_type": "markdown",
   "id": "cab4bc79-bf8d-4afc-98ae-7374d6bc7448",
   "metadata": {},
   "source": [
    "## Temperatura"
   ]
  },
  {
   "cell_type": "code",
   "execution_count": null,
   "id": "c3ba972c-449b-4c2f-b398-d5508cfaa34b",
   "metadata": {},
   "outputs": [],
   "source": [
    "T=2*np.average(K)\n",
    "print(\"T =\",T)"
   ]
  },
  {
   "cell_type": "markdown",
   "id": "5a8102f9-b395-4bd4-a693-20616f8eef4b",
   "metadata": {},
   "source": [
    "## Distribuicoes"
   ]
  },
  {
   "cell_type": "code",
   "execution_count": null,
   "id": "0e373fe2-cb68-437c-a1a0-6b323794c646",
   "metadata": {
    "tags": []
   },
   "outputs": [],
   "source": [
    "@interact(t=(0.0, tmax,0.01), bin_count=(10,1000,1))\n",
    "def plotEFreqDens(t=0.0, bin_count=400):\n",
    "    #E = simData.getEnergyDensityInterval(t, x0, x1)\n",
    "    #KD = simData.getKineticAndGradientEnergyDensityInInterval(t, x0, x1)\n",
    "    #K = simData.getKineticEnergyDensityInInterval(t, x0, x1)\n",
    "    #D = simData.getGradientEnergyDensityInInterval(t, x0, x1)\n",
    "    V = np.abs(simData.getInstant(t, x0, x1))\n",
    "    \n",
    "    f = V\n",
    "    \n",
    "    bins = linspace(0, 10.e-3, bin_count)\n",
    "    #pyplot.hist((K,D), bins, density=True, stacked=True)\n",
    "    pyplot.hist(f, bins, density=True, stacked=True, histtype='stepfilled')\n",
    "    \n",
    "    pyplot.title('DOS for {} samples'.format(len(f)))\n",
    "    pyplot.xlabel(\"$V(\\\\phi)$\")\n",
    "    pyplot.ylabel(\"n(V)\")  \n",
    "    \n",
    "    pyplot.ylim(0, 2.1e4)"
   ]
  },
  {
   "cell_type": "code",
   "execution_count": null,
   "id": "2aa43f9c-73f8-47b3-b950-fab1bde7410f",
   "metadata": {},
   "outputs": [],
   "source": [
    "@interact(t=(0.0, tmax), bin_count=(10,1000,1))\n",
    "def plotKFreqDens(t, bin_count=200):\n",
    "    K = simData.getKineticEnergyDensityInInterval(t, x0, x1)\n",
    "\n",
    "    bins = linspace(0, 2.e-3, bin_count)\n",
    "    pyplot.hist(K, bins, density=True)"
   ]
  },
  {
   "cell_type": "code",
   "execution_count": null,
   "id": "9f266baf-1045-4ce0-9a3c-f6312697ec01",
   "metadata": {},
   "outputs": [],
   "source": [
    "x = linspace(-1.e-1, 1.e-1, 200)\n",
    "    \n",
    "@interact(t=(0.0, tmax), T=(0.05, 0.15, 0.001))\n",
    "def plotAvV(t, T=T*1.e3):\n",
    "    v = simData.getTimeDerivativeInterval(t, x0, x1)\n",
    "    \n",
    "    vBins = linspace(-1.e-1, 1.e-1, 200)\n",
    "    pyplot.hist(v, vBins, density=True)\n",
    "    \n",
    "    T*=1.e-3\n",
    "    y = (1./(sqrt(2*pi*T)))*exp(-x*x/(2*T))\n",
    "    pyplot.plot(x, y, label=\"Maxwell distr. of speeds\")\n",
    "    \n",
    "    pyplot.text(-0.075, 30, \"T={}\".format(T))\n",
    "    \n",
    "    pyplot.xlabel(\"$\\dot\\phi$\")\n",
    "    pyplot.ylabel(\"$f(\\dot\\phi)$\")\n",
    "    \n",
    "    pyplot.legend()\n",
    "\n"
   ]
  },
  {
   "cell_type": "code",
   "execution_count": null,
   "id": "2ffdb184-9d91-4f73-9b13-730962d86157",
   "metadata": {},
   "outputs": [],
   "source": [
    "def ComputeFunctionDistribution(function, begin_line: int, n_time_samples: int, bin_count: int, E_max: float):\n",
    "    histogramAvg = 0\n",
    "    bins=None\n",
    "    \n",
    "    for currLine in range(begin_line, begin_line+n_time_samples):\n",
    "        E = function(currLine)\n",
    "        histogram, bins=np.histogram(E, bin_count, density=False, range=(0,E_max))\n",
    "        \n",
    "        histogramAvg += np.asarray(histogram, dtype=np.float32)\n",
    "    \n",
    "    histogramAvg /= (len(E)*n_time_samples*(E_max/bin_count))\n",
    "        \n",
    "    return bins[:-1], histogramAvg"
   ]
  },
  {
   "cell_type": "code",
   "execution_count": null,
   "id": "189ea551-d40d-4cbc-8dfa-17bb430348de",
   "metadata": {},
   "outputs": [],
   "source": [
    "@interact(t=(0.03, tmax, 0.01), bin_count=(10,1000,1), width=(0.1*L,L,L/100), avg_samples=(1,500,1))\n",
    "def plotEFreqDens(t=0.13, bin_count=150, width=0.99, avg_samples=50, density=False):\n",
    "    \n",
    "    line = simData._getLineForTime(t)\n",
    "    \n",
    "    E_max = 1.e-2\n",
    "    \n",
    "    func = lambda l: simData.getEnergyDensityIntervalIndexedTime(l, -width/2, width/2)\n",
    "    \n",
    "    bins, normalized_distr = ComputeFunctionDistribution(func, begin_line=line-avg_samples, n_time_samples=avg_samples, bin_count=bin_count,\n",
    "                                          E_max=E_max)\n",
    "        \n",
    "    pyplot.plot(bins, normalized_distr)\n",
    "    \n",
    "    y_max=2e2\n",
    "    \n",
    "    if 0:\n",
    "        E_avg=0\n",
    "        for currLine in range(line-avg_samples, line):\n",
    "            E_avg += np.average(func(currLine))\n",
    "        E_avg /= avg_samples\n",
    "    \n",
    "        pyplot.plot((E_avg, E_avg), (0, y_max))\n",
    "    \n",
    "    pyplot.ylim(0, y_max)\n",
    "    \n",
    "    \n",
    "    pyplot.title('DOS for {} samples'.format(len(E)*avg_samples))\n",
    "    pyplot.xlabel(\"E\")\n",
    "    pyplot.ylabel(\"n(E)/N(E)\")  "
   ]
  },
  {
   "cell_type": "code",
   "execution_count": null,
   "id": "30fb245a-3b5d-4b84-acb9-7f68b6b65f13",
   "metadata": {},
   "outputs": [],
   "source": [
    "_t=35.0\n",
    "bin_count=150\n",
    "width=12.5\n",
    "avg_samples=50\n",
    "\n",
    "func = lambda l: simData.getEnergyDensityIntervalIndexedTime(l, -width/2, width/2)\n",
    "\n",
    "t_integer = simData._getLineForTime(_t)\n",
    "bins, normalized_distr = ComputeFunctionDistribution(func, begin_line=t_integer-avg_samples, n_time_samples=avg_samples, bin_count=bin_count, E_max=1.e-3)\n",
    "\n",
    "np.average(func(t_integer))"
   ]
  },
  {
   "cell_type": "code",
   "execution_count": null,
   "id": "d70fa2d1-a769-492d-b9af-8b1795f856ae",
   "metadata": {},
   "outputs": [],
   "source": [
    "x = linspace(-1.e-1, 1.e-1, 200)\n",
    "\n",
    "@interact(t=(0.0, tmax), T=(0.05, 0.15, 0.001))\n",
    "def plotAvV(t, T=T*1.e3):\n",
    "    func = simData.getTimeDerivativeInterval(t, x0, x1)\n",
    "    \n",
    "    vBins = linspace(-1.e-1, 1.e-1, 200)\n",
    "    pyplot.hist(v, vBins, density=True)\n",
    "    \n",
    "    T*=1.e-3\n",
    "    y = (1./(sqrt(2*pi*T)))*exp(-x*x/(2*T))\n",
    "    pyplot.plot(x, y, label=\"Maxwell distr. of speeds\")\n",
    "    \n",
    "    pyplot.text(-0.075, 30, \"T={}\".format(T))\n",
    "    \n",
    "    pyplot.xlabel(\"$\\dot\\phi$\")\n",
    "    pyplot.ylabel(\"$f(\\dot\\phi)$\")\n",
    "    \n",
    "    pyplot.legend()\n",
    "    \n",
    "\n",
    "@interact(t=(0.1, tmax), bin_count=(10,1000,1), width=(1,20,0.25), avg_samples=(1,500,1))\n",
    "def plotEFreqDens(t, bin_count=150, width=12.5, avg_samples=50, density=False):\n",
    "    \n",
    "    line = simData._getLineForTime(t)\n",
    "    \n",
    "    E_max = 1.e-3\n",
    "    \n",
    "    func = lambda l: simData.getEnergyDensityIntervalIndexedTime(l, -width/2, width/2)\n",
    "    \n",
    "    bins, normalized_distr = ComputeFunctionDistribution(func, begin_line=line-avg_samples, n_time_samples=avg_samples, bin_count=bin_count,\n",
    "                                          E_max=1.e-3)\n",
    "        \n",
    "    pyplot.plot(bins, normalized_distr)\n",
    "    \n",
    "    y_max=1.2e4\n",
    "    \n",
    "    E_avg=0\n",
    "    for currLine in range(line-avg_samples, line):\n",
    "        E_avg += np.average(func(currLine))\n",
    "    E_avg /= avg_samples\n",
    "    \n",
    "    pyplot.plot((E_avg, E_avg), (0, y_max))\n",
    "    \n",
    "    pyplot.ylim(0, y_max)\n",
    "    \n",
    "    \n",
    "    pyplot.title('DOS for {} samples'.format(len(E)*avg_samples))\n",
    "    pyplot.xlabel(\"E\")\n",
    "    pyplot.ylabel(\"n(E)/N(E)\")"
   ]
  },
  {
   "cell_type": "code",
   "execution_count": null,
   "id": "98914e77-3ff5-41cf-8d1e-ce6b24f59371",
   "metadata": {},
   "outputs": [],
   "source": [
    "@interact(t=(0.1, tmax), bin_count=(10,1000,1), width=(1,20,0.25), avg_samples=(1,500,1))\n",
    "def plotEFreqDens(t, bin_count=150, width=12.5, avg_samples=50, density=False):\n",
    "    \n",
    "    line = simData._getLineForTime(t)\n",
    "    \n",
    "    E_max = 1.e-3\n",
    "    \n",
    "    func = lambda l: simData.getEnergyDensityIntervalIndexedTime(l, -width/2, width/2)\n",
    "    \n",
    "    bins, normalized_distr = ComputeFunctionDistribution(func, begin_line=line-avg_samples, n_time_samples=avg_samples, bin_count=bin_count,\n",
    "                                          E_max=1.e-3)\n",
    "        \n",
    "    pyplot.plot(bins, normalized_distr)\n",
    "    \n",
    "    y_max=1.2e4\n",
    "    \n",
    "    E_avg=0\n",
    "    for currLine in range(line-avg_samples, line):\n",
    "        E_avg += np.average(func(currLine))\n",
    "    E_avg /= avg_samples\n",
    "    \n",
    "    pyplot.plot((E_avg, E_avg), (0, y_max))\n",
    "    \n",
    "    pyplot.ylim(0, y_max)\n",
    "    \n",
    "    \n",
    "    pyplot.title('DOS for {} samples'.format(len(E)*avg_samples))\n",
    "    pyplot.xlabel(\"E\")\n",
    "    pyplot.ylabel(\"n(E)/N(E)\")"
   ]
  },
  {
   "cell_type": "code",
   "execution_count": null,
   "id": "2cb506bb-abf4-49e8-a936-40c54585e28c",
   "metadata": {},
   "outputs": [],
   "source": []
  },
  {
   "cell_type": "code",
   "execution_count": null,
   "id": "d4597986-22e5-41e4-b2ae-7bed5c97b3fa",
   "metadata": {},
   "outputs": [],
   "source": []
  },
  {
   "cell_type": "code",
   "execution_count": null,
   "id": "d311158f-86a4-4279-aa0a-b3b4fd1608dc",
   "metadata": {},
   "outputs": [],
   "source": []
  },
  {
   "cell_type": "code",
   "execution_count": null,
   "id": "e1b60823-5315-4576-9051-5a3af71cf777",
   "metadata": {},
   "outputs": [],
   "source": []
  }
 ],
 "metadata": {
  "kernelspec": {
   "display_name": "Python 3",
   "language": "python",
   "name": "python3"
  },
  "language_info": {
   "codemirror_mode": {
    "name": "ipython",
    "version": 3
   },
   "file_extension": ".py",
   "mimetype": "text/x-python",
   "name": "python",
   "nbconvert_exporter": "python",
   "pygments_lexer": "ipython3",
   "version": "3.8.8"
  }
 },
 "nbformat": 4,
 "nbformat_minor": 5
}
