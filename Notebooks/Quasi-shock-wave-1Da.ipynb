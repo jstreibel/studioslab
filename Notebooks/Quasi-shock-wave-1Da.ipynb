{
 "cells": [
  {
   "cell_type": "code",
   "execution_count": 201,
   "id": "65a66d25-5f64-481f-846c-0ced8fe616ac",
   "metadata": {},
   "outputs": [],
   "source": [
    "import numpy as np\n",
    "from matplotlib import pyplot\n",
    "\n",
    "import IPython.display as Display\n",
    "Latex = Display.Latex"
   ]
  },
  {
   "cell_type": "code",
   "execution_count": 177,
   "id": "9a8f27e5-7f69-4c13-82ed-beaef00a7db9",
   "metadata": {},
   "outputs": [],
   "source": [
    "pyplot.rcParams['figure.figsize'] = [12, 6]\n",
    "pyplot.rcParams['figure.dpi'] = 110\n",
    "\n",
    "N = 200\n",
    "zeros = np.zeros(N)"
   ]
  },
  {
   "cell_type": "code",
   "execution_count": 186,
   "id": "73f22443-49dc-4039-bb7a-68f3039bc483",
   "metadata": {},
   "outputs": [],
   "source": [
    "def ϕ_1L(t, x, a, ε):\n",
    "    domain = ((x>-ε+t) & (x<-t) & (t<ε/2)) * 1\n",
    "    \n",
    "    ϕ = a/ε**2 * (x+ε)*t  -  t**2/2\n",
    "    \n",
    "    return domain*ϕ\n",
    "\n",
    "def ϕ_2L(t, x, a, ε):\n",
    "    v = -1 + ε**2/a\n",
    "    \n",
    "    x_max = -ε+t\n",
    "    if t>ε/2:\n",
    "        x_max = -t\n",
    "        \n",
    "    t_c = a/ε\n",
    "    domain = ((x>-ε+v*t) & (x<x_max) & (t<t_c)) * 1\n",
    "    \n",
    "    ϕ = (x+ε-v*t)**2 / (2*(1-v**2))\n",
    "    \n",
    "    return domain*ϕ\n",
    "\n",
    "def ϕ_1C(t, x, a, ε):\n",
    "    v = -1 + ε**2/a\n",
    "    \n",
    "    # O DOMINIO DE x NAO ESTA CERTO PARA t>ε/2\n",
    "    if t<ε/2:\n",
    "        domain = ((x>-t) & (x<t) & (t<ε)) * 1\n",
    "    elif t>ε/2 and t<ε:\n",
    "        domain = ((x>-t) & (x<t) & (t<ε)) * 1\n",
    "    else:\n",
    "        domain = zeros\n",
    "    \n",
    "    ϕ = 1./(1+v) * (ε*t - (x**2 + t**2)/2) - t**2/2\n",
    "    \n",
    "    return domain*ϕ\n",
    "    \n",
    "def ϕ_1R(t, x, a, ε):\n",
    "    return ϕ_1L(t, -x, a, ε)\n",
    "    \n",
    "def ϕ_2R(t, x, a, ε):\n",
    "    return ϕ_2L(t, -x, a, ε)"
   ]
  },
  {
   "cell_type": "code",
   "execution_count": 205,
   "id": "0035f9cb-b41e-4c2c-8d9b-5fa760df9a2e",
   "metadata": {},
   "outputs": [
    {
     "name": "stdout",
     "output_type": "stream",
     "text": [
      "ε  =0.05013256549262001\n",
      "ε/2=0.025066282746310006\n"
     ]
    }
   ],
   "source": [
    "ε = 2*np.sqrt(np.pi*2.e-4)\n",
    "a = 0.05\n",
    "x = np.linspace(-0.1, 0.1, N)\n",
    "t = 0.1\n",
    "\n",
    "def ϕ(t):\n",
    "    return ϕ_1L(t, x, a, ε) + ϕ_2L(t, x, a, ε) + ϕ_1C(t, x, a, ε) + ϕ_1R(t, x, a, ε) + ϕ_2R(t, x, a, ε)\n",
    "\n",
    "print(\"ε  ={}\\nε/2={}\".format(ε,ε/2))"
   ]
  },
  {
   "cell_type": "code",
   "execution_count": 125,
   "id": "b00606dd-b4de-4db9-bdfd-3b4f140f1bf8",
   "metadata": {},
   "outputs": [
    {
     "data": {
      "text/plain": [
       "\u001b[0;31mSignature:\u001b[0m      \u001b[0minteract\u001b[0m\u001b[0;34m(\u001b[0m\u001b[0m_InteractFactory__interact_f\u001b[0m\u001b[0;34m=\u001b[0m\u001b[0;32mNone\u001b[0m\u001b[0;34m,\u001b[0m \u001b[0;34m**\u001b[0m\u001b[0mkwargs\u001b[0m\u001b[0;34m)\u001b[0m\u001b[0;34m\u001b[0m\u001b[0;34m\u001b[0m\u001b[0m\n",
       "\u001b[0;31mType:\u001b[0m           _InteractFactory\n",
       "\u001b[0;31mString form:\u001b[0m    <ipywidgets.widgets.interaction._InteractFactory object at 0x7f82e4526a30>\n",
       "\u001b[0;31mFile:\u001b[0m           /opt/anaconda/lib/python3.8/site-packages/ipywidgets/widgets/interaction.py\n",
       "\u001b[0;31mDocstring:\u001b[0m     \n",
       "Factory for instances of :class:`interactive`.\n",
       "\n",
       "This class is needed to support options like::\n",
       "\n",
       "    >>> @interact.options(manual=True)\n",
       "    ... def greeting(text=\"World\"):\n",
       "    ...     print(\"Hello {}\".format(text))\n",
       "\n",
       "Parameters\n",
       "----------\n",
       "cls : class\n",
       "    The subclass of :class:`interactive` to construct.\n",
       "options : dict\n",
       "    A dict of options used to construct the interactive\n",
       "    function. By default, this is returned by\n",
       "    ``cls.default_options()``.\n",
       "kwargs : dict\n",
       "    A dict of **kwargs to use for widgets.\n",
       "\u001b[0;31mCall docstring:\u001b[0m\n",
       "Make the given function interactive by adding and displaying\n",
       "the corresponding :class:`interactive` widget.\n",
       "\n",
       "Expects the first argument to be a function. Parameters to this\n",
       "function are widget abbreviations passed in as keyword arguments\n",
       "(``**kwargs``). Can be used as a decorator (see examples).\n",
       "\n",
       "Returns\n",
       "-------\n",
       "f : __interact_f with interactive widget attached to it.\n",
       "\n",
       "Parameters\n",
       "----------\n",
       "__interact_f : function\n",
       "    The function to which the interactive widgets are tied. The `**kwargs`\n",
       "    should match the function signature. Passed to :func:`interactive()`\n",
       "**kwargs : various, optional\n",
       "    An interactive widget is created for each keyword argument that is a\n",
       "    valid widget abbreviation. Passed to :func:`interactive()`\n",
       "\n",
       "Examples\n",
       "--------\n",
       "Render an interactive text field that shows the greeting with the passed in\n",
       "text::\n",
       "\n",
       "    # 1. Using interact as a function\n",
       "    def greeting(text=\"World\"):\n",
       "        print(\"Hello {}\".format(text))\n",
       "    interact(greeting, text=\"IPython Widgets\")\n",
       "\n",
       "    # 2. Using interact as a decorator\n",
       "    @interact\n",
       "    def greeting(text=\"World\"):\n",
       "        print(\"Hello {}\".format(text))\n",
       "\n",
       "    # 3. Using interact as a decorator with named parameters\n",
       "    @interact(text=\"IPython Widgets\")\n",
       "    def greeting(text=\"World\"):\n",
       "        print(\"Hello {}\".format(text))\n",
       "\n",
       "Render an interactive slider widget and prints square of number::\n",
       "\n",
       "    # 1. Using interact as a function\n",
       "    def square(num=1):\n",
       "        print(\"{} squared is {}\".format(num, num*num))\n",
       "    interact(square, num=5)\n",
       "\n",
       "    # 2. Using interact as a decorator\n",
       "    @interact\n",
       "    def square(num=2):\n",
       "        print(\"{} squared is {}\".format(num, num*num))\n",
       "\n",
       "    # 3. Using interact as a decorator with named parameters\n",
       "    @interact(num=5)\n",
       "    def square(num=2):\n",
       "        print(\"{} squared is {}\".format(num, num*num))\n"
      ]
     },
     "metadata": {},
     "output_type": "display_data"
    }
   ],
   "source": []
  },
  {
   "cell_type": "code",
   "execution_count": null,
   "id": "c6b5f016-9cee-4b84-80c1-27e9af2913c1",
   "metadata": {},
   "outputs": [],
   "source": []
  }
 ],
 "metadata": {
  "kernelspec": {
   "display_name": "Python 3",
   "language": "python",
   "name": "python3"
  },
  "language_info": {
   "codemirror_mode": {
    "name": "ipython",
    "version": 3
   },
   "file_extension": ".py",
   "mimetype": "text/x-python",
   "name": "python",
   "nbconvert_exporter": "python",
   "pygments_lexer": "ipython3",
   "version": "3.8.8"
  }
 },
 "nbformat": 4,
 "nbformat_minor": 5
}
