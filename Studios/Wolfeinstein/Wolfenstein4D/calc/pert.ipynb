{
 "cells": [
  {
   "cell_type": "code",
   "execution_count": 153,
   "metadata": {},
   "outputs": [],
   "source": [
    "from sympy import *\n",
    "from sympy.utilities.codegen import codegen\n",
    "from sympy.utilities.codegen import CCodeGen\n",
    "init_printing()"
   ]
  },
  {
   "cell_type": "code",
   "execution_count": 154,
   "metadata": {},
   "outputs": [],
   "source": [
    "Sx, Sy, ax, ay = symbols('S_x S_y a_x a_y')\n",
    "t, nx, ny, cx, cy, tp = symbols('t n_x n_y c_x c_y t\\'')\n",
    "x, y = symbols('x y') \n",
    "bx, by = symbols('b_x b_y')"
   ]
  },
  {
   "cell_type": "code",
   "execution_count": 155,
   "metadata": {},
   "outputs": [],
   "source": [
    "eq1 = x + t*nx + t**2*cx - (bx + Sx/2 + ax*tp)\n",
    "eq2 = y + t*ny + t**2*cy - (by + Sy/2 + ay*tp)"
   ]
  },
  {
   "cell_type": "code",
   "execution_count": null,
   "metadata": {},
   "outputs": [],
   "source": []
  },
  {
   "cell_type": "code",
   "execution_count": 156,
   "metadata": {},
   "outputs": [],
   "source": [
    "A = [-1, -1, 1, 0, 'A']\n",
    "B = [+1, -1, 0, 1, 'B']\n",
    "C = [+1, +1,-1, 0, 'C']\n",
    "D = [-1, +1, 0,-1, 'D']"
   ]
  },
  {
   "cell_type": "code",
   "execution_count": 157,
   "metadata": {},
   "outputs": [
    {
     "name": "stdout",
     "output_type": "stream",
     "text": [
      "/******************************************************************************\n",
      " *                      Code generated with sympy 1.1.1                       *\n",
      " *                                                                            *\n",
      " *              See http://www.sympy.org/ for more information.               *\n",
      " *                                                                            *\n",
      " *                       This file is part of 'project'                       *\n",
      " ******************************************************************************/\n",
      "#include \"block-intersector.h\"\n",
      "#include <cmath>\n",
      "\n",
      "double tA(double b_y, double c_y, double n_y, double y) {\n",
      "\n",
      "   double tA_result;\n",
      "   tA_result = -1.0L/2.0L*(n_y - sqrt(4*b_y*c_y - 4*c_y*y - 2*c_y + pow(n_y, 2)))/c_y;\n",
      "   return tA_result;\n",
      "\n",
      "}\n",
      "\n",
      "double tpA(double b_x, double b_y, double c_x, double c_y, double n_x, double n_y, double x, double y) {\n",
      "\n",
      "   double tpA_result;\n",
      "   tpA_result = (1.0L/2.0L)*(-2*b_x*pow(c_y, 2) + 2*b_y*c_x*c_y - 2*c_x*c_y*y - c_x*c_y + c_x*pow(n_y, 2) + 2*pow(c_y, 2)*x + pow(c_y, 2) - c_y*n_x*n_y + (-c_x*n_y + c_y*n_x)*sqrt(4*b_y*c_y - 4*c_y*y - 2*c_y + pow(n_y, 2)))/pow(c_y, 2);\n",
      "   return tpA_result;\n",
      "\n",
      "}\n",
      "\n",
      "double tB(double b_x, double c_x, double n_x, double x) {\n",
      "\n",
      "   double tB_result;\n",
      "   tB_result = -1.0L/2.0L*(n_x + sqrt(4*b_x*c_x - 4*c_x*x + 2*c_x + pow(n_x, 2)))/c_x;\n",
      "   return tB_result;\n",
      "\n",
      "}\n",
      "\n",
      "double tpB(double b_x, double b_y, double c_x, double c_y, double n_x, double n_y, double x, double y) {\n",
      "\n",
      "   double tpB_result;\n",
      "   tpB_result = (1.0L/2.0L)*(2*b_x*c_x*c_y - 2*b_y*pow(c_x, 2) + 2*pow(c_x, 2)*y + pow(c_x, 2) - 2*c_x*c_y*x + c_x*c_y - c_x*n_x*n_y + c_y*pow(n_x, 2) + (-c_x*n_y + c_y*n_x)*sqrt(4*b_x*c_x - 4*c_x*x + 2*c_x + pow(n_x, 2)))/pow(c_x, 2);\n",
      "   return tpB_result;\n",
      "\n",
      "}\n",
      "\n",
      "double tC(double b_y, double c_y, double n_y, double y) {\n",
      "\n",
      "   double tC_result;\n",
      "   tC_result = -1.0L/2.0L*(n_y + sqrt(4*b_y*c_y - 4*c_y*y + 2*c_y + pow(n_y, 2)))/c_y;\n",
      "   return tC_result;\n",
      "\n",
      "}\n",
      "\n",
      "double tpC(double b_x, double b_y, double c_x, double c_y, double n_x, double n_y, double x, double y) {\n",
      "\n",
      "   double tpC_result;\n",
      "   tpC_result = (1.0L/2.0L)*(2*b_x*pow(c_y, 2) - 2*b_y*c_x*c_y + 2*c_x*c_y*y - c_x*c_y - c_x*pow(n_y, 2) - 2*pow(c_y, 2)*x + pow(c_y, 2) + c_y*n_x*n_y + (-c_x*n_y + c_y*n_x)*sqrt(4*b_y*c_y - 4*c_y*y + 2*c_y + pow(n_y, 2)))/pow(c_y, 2);\n",
      "   return tpC_result;\n",
      "\n",
      "}\n",
      "\n",
      "double tD(double b_x, double c_x, double n_x, double x) {\n",
      "\n",
      "   double tD_result;\n",
      "   tD_result = -1.0L/2.0L*(n_x - sqrt(4*b_x*c_x - 4*c_x*x - 2*c_x + pow(n_x, 2)))/c_x;\n",
      "   return tD_result;\n",
      "\n",
      "}\n",
      "\n",
      "double tpD(double b_x, double b_y, double c_x, double c_y, double n_x, double n_y, double x, double y) {\n",
      "\n",
      "   double tpD_result;\n",
      "   tpD_result = (1.0L/2.0L)*(-2*b_x*c_x*c_y + 2*b_y*pow(c_x, 2) - 2*pow(c_x, 2)*y + pow(c_x, 2) + 2*c_x*c_y*x + c_x*c_y + c_x*n_x*n_y - c_y*pow(n_x, 2) + (-c_x*n_y + c_y*n_x)*sqrt(4*b_x*c_x - 4*c_x*x - 2*c_x + pow(n_x, 2)))/pow(c_x, 2);\n",
      "   return tpD_result;\n",
      "\n",
      "}\n",
      "\n"
     ]
    }
   ],
   "source": [
    "L = A, B, C, D\n",
    "sol = solve_poly_system([eq1, eq2], t, tp)[0]\n",
    "expr = []\n",
    "for M in L:\n",
    "    sol_t =  sol[0].subs(Sx, M[0]).subs(Sy, M[1]).subs(ax, M[2]).subs(ay, M[3]).simplify()\n",
    "    sol_tp = sol[1].subs(Sx, M[0]).subs(Sy, M[1]).subs(ax, M[2]).subs(ay, M[3]).simplify()\n",
    "    expr.append(('t' +M[-1], sol_t))\n",
    "    expr.append(('tp'+M[-1], sol_tp))\n",
    "\n",
    "if 0:\n",
    "    [(c_name, c_code), (h_name, c_header)] = codegen(expr, 'C99', 'block-intersector')\n",
    "    c_code = c_code.replace('<math.h>', '<cmath>')\n",
    "else:\n",
    "    print(c_code)"
   ]
  },
  {
   "cell_type": "code",
   "execution_count": 152,
   "metadata": {},
   "outputs": [],
   "source": [
    "folder = '../main/'\n",
    "\n",
    "with open(folder+h_name, 'w') as header:\n",
    "    header.write(c_header)    \n",
    "\n",
    "with open(folder+c_name+'pp', 'w') as source:\n",
    "    source.write(c_code)    "
   ]
  },
  {
   "cell_type": "code",
   "execution_count": null,
   "metadata": {},
   "outputs": [],
   "source": []
  }
 ],
 "metadata": {
  "kernelspec": {
   "display_name": "Python 3",
   "language": "python",
   "name": "python3"
  },
  "language_info": {
   "codemirror_mode": {
    "name": "ipython",
    "version": 3
   },
   "file_extension": ".py",
   "mimetype": "text/x-python",
   "name": "python",
   "nbconvert_exporter": "python",
   "pygments_lexer": "ipython3",
   "version": "3.6.5"
  }
 },
 "nbformat": 4,
 "nbformat_minor": 2
}
