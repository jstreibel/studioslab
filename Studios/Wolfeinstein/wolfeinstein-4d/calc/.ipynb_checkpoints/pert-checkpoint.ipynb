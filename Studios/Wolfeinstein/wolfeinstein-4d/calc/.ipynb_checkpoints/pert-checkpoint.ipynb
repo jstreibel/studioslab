{
 "cells": [
  {
   "cell_type": "code",
   "execution_count": 122,
   "metadata": {},
   "outputs": [],
   "source": [
    "from sympy import *\n",
    "from sympy.utilities.codegen import codegen\n",
    "from sympy.utilities.codegen import CCodeGen\n",
    "init_printing()"
   ]
  },
  {
   "cell_type": "code",
   "execution_count": 123,
   "metadata": {},
   "outputs": [],
   "source": [
    "Sx, Sy, ax, ay = symbols('S_x S_y a_x a_y')\n",
    "t, nx, ny, cx, cy, tp = symbols('t n_x n_y c_x c_y t\\'')\n",
    "x, y = symbols('x y') \n",
    "bx, by = symbols('b_x b_y')"
   ]
  },
  {
   "cell_type": "code",
   "execution_count": 124,
   "metadata": {},
   "outputs": [],
   "source": [
    "eq1 = x + t*nx + t**2*cx - (bx + Sx/2 + ax*tp)\n",
    "eq2 = y + t*ny + t**2*cy - (by + Sy/2 + ay*tp)"
   ]
  },
  {
   "cell_type": "code",
   "execution_count": null,
   "metadata": {},
   "outputs": [],
   "source": []
  },
  {
   "cell_type": "code",
   "execution_count": 125,
   "metadata": {},
   "outputs": [],
   "source": [
    "A = [-1, -1, 1, 0, 'A']\n",
    "B = [+1, -1, 0, 1, 'B']\n",
    "C = [+1, +1,-1, 0, 'C']\n",
    "D = [-1, +1, 0,-1, 'D']"
   ]
  },
  {
   "cell_type": "code",
   "execution_count": 140,
   "metadata": {},
   "outputs": [],
   "source": [
    "L = A, B, C, D\n",
    "sol = solve_poly_system([eq1, eq2], t, tp)[0]\n",
    "expr = []\n",
    "for M in L:\n",
    "    sol_t =  sol[0].subs(Sx, M[0]).subs(Sy, M[1]).subs(ax, M[2]).subs(ay, M[3]).simplify()\n",
    "    sol_tp = sol[1].subs(Sx, M[0]).subs(Sy, M[1]).subs(ax, M[2]).subs(ay, M[3]).simplify()\n",
    "    expr.append(('t' +M[-1], sol_t))\n",
    "    expr.append(('tp'+M[-1], sol_tp))\n",
    "\n",
    "if 0:\n",
    "    [(c_name, c_code), (h_name, c_header)] = codegen(expr, 'C99', 'block-intersector')\n",
    "    c_code = c_code.replace('<math.h>', '<cmath>')\n",
    "else:\n",
    "    print(c_code)"
   ]
  },
  {
   "cell_type": "code",
   "execution_count": 152,
   "metadata": {},
   "outputs": [],
   "source": [
    "folder = '../main/'\n",
    "\n",
    "with open(folder+h_name, 'w') as header:\n",
    "    header.write(c_header)    \n",
    "\n",
    "with open(folder+c_name+'pp', 'w') as source:\n",
    "    source.write(c_code)    "
   ]
  },
  {
   "cell_type": "code",
   "execution_count": null,
   "metadata": {},
   "outputs": [],
   "source": []
  }
 ],
 "metadata": {
  "kernelspec": {
   "display_name": "Python 3",
   "language": "python",
   "name": "python3"
  },
  "language_info": {
   "codemirror_mode": {
    "name": "ipython",
    "version": 3
   },
   "file_extension": ".py",
   "mimetype": "text/x-python",
   "name": "python",
   "nbconvert_exporter": "python",
   "pygments_lexer": "ipython3",
   "version": "3.6.5"
  }
 },
 "nbformat": 4,
 "nbformat_minor": 2
}
